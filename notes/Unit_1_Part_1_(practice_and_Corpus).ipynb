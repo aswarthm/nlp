{
  "cells": [
    {
      "cell_type": "code",
      "execution_count": null,
      "id": "6ce35a23",
      "metadata": {
        "id": "6ce35a23"
      },
      "outputs": [],
      "source": [
        "#For introduction to python, start with https://www.nltk.org/book/ch01.html. Lets see some"
      ]
    },
    {
      "cell_type": "code",
      "execution_count": null,
      "id": "1e84764a",
      "metadata": {
        "id": "1e84764a"
      },
      "outputs": [],
      "source": [
        "import nltk"
      ]
    },
    {
      "cell_type": "code",
      "execution_count": null,
      "id": "e48438aa",
      "metadata": {
        "id": "e48438aa"
      },
      "outputs": [],
      "source": [
        "monty = \"Monty Python's \"\\      #Lets do some string experiment\n",
        "\"Flying Circus.\""
      ]
    },
    {
      "cell_type": "code",
      "execution_count": null,
      "id": "03c19e65",
      "metadata": {
        "id": "03c19e65",
        "outputId": "b0d785c6-60e3-4c72-ce32-726fe12595d1"
      },
      "outputs": [
        {
          "data": {
            "text/plain": [
              "\"Monty Python's Flying Circus.Monty Python's Flying Circus.plus just last word:Circus.\""
            ]
          },
          "execution_count": 5,
          "metadata": {},
          "output_type": "execute_result"
        }
      ],
      "source": [
        "monty*2 + \"plus just last word:\" + monty[-7:]     #-7 means negative count from end +7 is from beginning"
      ]
    },
    {
      "cell_type": "code",
      "execution_count": null,
      "id": "cc836f94",
      "metadata": {
        "id": "cc836f94",
        "outputId": "941fc8a0-344c-4080-85da-8db43bfc631c"
      },
      "outputs": [
        {
          "data": {
            "text/plain": [
              "\"MONTY PYTHON'S FLYING CIRCUS. and monty python's flying circus.\""
            ]
          },
          "execution_count": 6,
          "metadata": {},
          "output_type": "execute_result"
        }
      ],
      "source": [
        "monty.upper() +' and '+ monty.lower()"
      ]
    },
    {
      "cell_type": "code",
      "execution_count": null,
      "id": "a41a071d",
      "metadata": {
        "id": "a41a071d",
        "outputId": "54727253-b7cd-4f66-ca3e-816cb8261772"
      },
      "outputs": [
        {
          "data": {
            "text/plain": [
              "\"Montz Pzthon's Flzing Circus.\""
            ]
          },
          "execution_count": 7,
          "metadata": {},
          "output_type": "execute_result"
        }
      ],
      "source": [
        "monty.replace('y','z')"
      ]
    },
    {
      "cell_type": "code",
      "execution_count": null,
      "id": "fd14f777",
      "metadata": {
        "id": "fd14f777",
        "outputId": "496448f0-148e-4691-b6b8-e905f49fb2ea"
      },
      "outputs": [
        {
          "data": {
            "text/plain": [
              "4"
            ]
          },
          "execution_count": 14,
          "metadata": {},
          "output_type": "execute_result"
        }
      ],
      "source": [
        "#Lists - As opposed to strings lists are flexible about the elements they contain\n",
        "sent1 = ['Monty','Python']\n",
        "sent2 = ['and','the','holy','grail']\n",
        "len(sent2)"
      ]
    },
    {
      "cell_type": "code",
      "execution_count": null,
      "id": "fc8d2d7a",
      "metadata": {
        "id": "fc8d2d7a",
        "outputId": "3466a4b9-9de8-4b6e-fe4d-d8525a9cd7c6"
      },
      "outputs": [
        {
          "data": {
            "text/plain": [
              "'Python'"
            ]
          },
          "execution_count": 15,
          "metadata": {},
          "output_type": "execute_result"
        }
      ],
      "source": [
        "sent1[1]"
      ]
    },
    {
      "cell_type": "code",
      "execution_count": null,
      "id": "341bf58b",
      "metadata": {
        "id": "341bf58b",
        "outputId": "d35a8864-ca20-4141-fe9f-cd74d9b6182d"
      },
      "outputs": [
        {
          "data": {
            "text/plain": [
              "['Monty', 'Python', 'and', 'the', 'holy', 'grail', '1975']"
            ]
          },
          "execution_count": 16,
          "metadata": {},
          "output_type": "execute_result"
        }
      ],
      "source": [
        "sent2.append(\"1975\")\n",
        "sent1+sent2"
      ]
    },
    {
      "cell_type": "code",
      "execution_count": null,
      "id": "69cca2aa",
      "metadata": {
        "id": "69cca2aa",
        "outputId": "4b3d8ced-5a9e-4cdf-c9ba-d3ec8c1775f6"
      },
      "outputs": [
        {
          "data": {
            "text/plain": [
              "['1975', 'Monty', 'Python', 'and', 'grail', 'holy', 'the']"
            ]
          },
          "execution_count": 17,
          "metadata": {},
          "output_type": "execute_result"
        }
      ],
      "source": [
        "sorted(sent1+sent2)"
      ]
    },
    {
      "cell_type": "code",
      "execution_count": null,
      "id": "1e4bd896",
      "metadata": {
        "id": "1e4bd896",
        "outputId": "b4f89b65-f6e0-4601-a5ae-8290610b203e"
      },
      "outputs": [
        {
          "data": {
            "text/plain": [
              "'MontyPython'"
            ]
          },
          "execution_count": 18,
          "metadata": {},
          "output_type": "execute_result"
        }
      ],
      "source": [
        "''.join(['Monty','Python'])"
      ]
    },
    {
      "cell_type": "code",
      "execution_count": null,
      "id": "4767da5f",
      "metadata": {
        "id": "4767da5f",
        "outputId": "1fea22dd-88a1-4aea-f105-fdefa26b2328"
      },
      "outputs": [
        {
          "data": {
            "text/plain": [
              "['Monty', 'Python']"
            ]
          },
          "execution_count": 19,
          "metadata": {},
          "output_type": "execute_result"
        }
      ],
      "source": [
        "'Monty Python'.split()"
      ]
    },
    {
      "cell_type": "code",
      "execution_count": null,
      "id": "61d3e614",
      "metadata": {
        "id": "61d3e614",
        "outputId": "1f6b08b8-c2af-4201-bedd-db0271e67589"
      },
      "outputs": [
        {
          "name": "stdout",
          "output_type": "stream",
          "text": [
            "*** Introductory Examples for the NLTK Book ***\n",
            "Loading text1, ..., text9 and sent1, ..., sent9\n",
            "Type the name of the text or sentence to view it.\n",
            "Type: 'texts()' or 'sents()' to list the materials.\n",
            "text1: Moby Dick by Herman Melville 1851\n",
            "text2: Sense and Sensibility by Jane Austen 1811\n",
            "text3: The Book of Genesis\n",
            "text4: Inaugural Address Corpus\n",
            "text5: Chat Corpus\n",
            "text6: Monty Python and the Holy Grail\n",
            "text7: Wall Street Journal\n",
            "text8: Personals Corpus\n",
            "text9: The Man Who Was Thursday by G . K . Chesterton 1908\n",
            "Displaying 10 of 10 matches:\n",
            "determined by a majority of a single vote , and that can be procured by a part\n",
            "e is applied it may be overcome by a vote of two - thirds of both Houses of Co\n",
            "ent expression of his opinion by his vote . This sacred right of each individu\n",
            "of uneducated negroes are allowed to vote . These are grave allegations . So f\n",
            "ess and the canvass of the electoral vote . Our people have already worthily o\n",
            " to effect a change in the electoral vote of the Southern States . That is a s\n",
            " any deprivation of the privilege to vote because he was a negro . The thirtee\n",
            " be acquiesced in , and the right to vote will be withheld only from the ignor\n",
            "t for hours to exercise the right to vote . Our journey is not complete until \n",
            "rave women marching for the right to vote . And today we mark the swearing - i\n"
          ]
        }
      ],
      "source": [
        "from nltk.book import text4\n",
        "text4.concordance(\"vote\")    #displays the context of work \"vote\" in textbook text4"
      ]
    },
    {
      "cell_type": "code",
      "execution_count": null,
      "id": "4279a95e",
      "metadata": {
        "id": "4279a95e",
        "outputId": "dae64df8-de8d-4d54-fbaf-458d3927f4b5"
      },
      "outputs": [
        {
          "name": "stdout",
          "output_type": "stream",
          "text": [
            "make do which all nation place union right us form honor congress\n",
            "secure state ourselves speak maintain consider declare man\n"
          ]
        }
      ],
      "source": [
        "text4.similar(\"vote\")  #Find words that appear in similar context"
      ]
    },
    {
      "cell_type": "code",
      "execution_count": null,
      "id": "0fe48d7f",
      "metadata": {
        "id": "0fe48d7f",
        "outputId": "2ed61ecd-9fbf-484d-a82b-bd8a31ceaecc"
      },
      "outputs": [
        {
          "ename": "NameError",
          "evalue": "name 'nltk' is not defined",
          "output_type": "error",
          "traceback": [
            "\u001b[1;31m---------------------------------------------------------------------------\u001b[0m",
            "\u001b[1;31mNameError\u001b[0m                                 Traceback (most recent call last)",
            "Cell \u001b[1;32mIn[8], line 1\u001b[0m\n\u001b[1;32m----> 1\u001b[0m nltk\u001b[38;5;241m.\u001b[39mdownload(\u001b[38;5;124m'\u001b[39m\u001b[38;5;124mstopwords\u001b[39m\u001b[38;5;124m'\u001b[39m)\n\u001b[0;32m      2\u001b[0m text4\u001b[38;5;241m.\u001b[39mcollocations()\n",
            "\u001b[1;31mNameError\u001b[0m: name 'nltk' is not defined"
          ]
        }
      ],
      "source": [
        "nltk.download('stopwords')\n",
        "text4.collocations()  #words that appear together frequently"
      ]
    },
    {
      "cell_type": "code",
      "execution_count": null,
      "id": "548ae0c8",
      "metadata": {
        "id": "548ae0c8"
      },
      "outputs": [],
      "source": [
        "len(text4)   #count the vocabulary"
      ]
    },
    {
      "cell_type": "code",
      "execution_count": null,
      "id": "9e30ec51",
      "metadata": {
        "id": "9e30ec51"
      },
      "outputs": [],
      "source": [
        "len(set(text4))  #distinct words"
      ]
    },
    {
      "cell_type": "code",
      "execution_count": null,
      "id": "78033d12",
      "metadata": {
        "id": "78033d12"
      },
      "outputs": [],
      "source": [
        "len(text4)/len(set(text4))   #Richness of text"
      ]
    },
    {
      "cell_type": "code",
      "execution_count": null,
      "id": "f2e9816f",
      "metadata": {
        "id": "f2e9816f"
      },
      "outputs": [],
      "source": [
        "len(set([word.lower() for word in text4 if len(word)>5]))   #lowercase and length >5"
      ]
    },
    {
      "cell_type": "code",
      "execution_count": null,
      "id": "cbce3551",
      "metadata": {
        "id": "cbce3551"
      },
      "outputs": [],
      "source": [
        "[w.upper() for w in text4[0:5]]    #first five words in text"
      ]
    },
    {
      "cell_type": "code",
      "execution_count": null,
      "id": "c6c2d4ae",
      "metadata": {
        "id": "c6c2d4ae",
        "outputId": "0b7c6465-c742-4721-abcf-15782d428f6b"
      },
      "outputs": [
        {
          "name": "stdout",
          "output_type": "stream",
          "text": [
            "Fellow is title case\n",
            "- is just another word\n",
            "Citizens is title case\n",
            "of is just another word\n",
            "the is short and ends with e\n"
          ]
        }
      ],
      "source": [
        "for word in text4[0:5]:    #first five words\n",
        "    if len(word)<5 and word.endswith('e'):\n",
        "        print(word, 'is short and ends with e')\n",
        "    elif word.istitle():\n",
        "        print(word, 'is title case')\n",
        "    else:\n",
        "        print(word, 'is just another word')"
      ]
    },
    {
      "cell_type": "code",
      "execution_count": null,
      "id": "82cc2505",
      "metadata": {
        "id": "82cc2505",
        "outputId": "f708dc61-01ec-492f-dd51-c8284475448c"
      },
      "outputs": [
        {
          "data": {
            "text/plain": [
              "['adventure',\n",
              " 'belles_lettres',\n",
              " 'editorial',\n",
              " 'fiction',\n",
              " 'government',\n",
              " 'hobbies',\n",
              " 'humor',\n",
              " 'learned',\n",
              " 'lore',\n",
              " 'mystery',\n",
              " 'news',\n",
              " 'religion',\n",
              " 'reviews',\n",
              " 'romance',\n",
              " 'science_fiction']"
            ]
          },
          "execution_count": 15,
          "metadata": {},
          "output_type": "execute_result"
        }
      ],
      "source": [
        "from nltk.corpus import brown\n",
        ">>> brown.categories()"
      ]
    },
    {
      "cell_type": "code",
      "execution_count": null,
      "id": "e5971483",
      "metadata": {
        "id": "e5971483",
        "outputId": "b2d1cc67-9b66-4a1a-cb35-01ef2ad54716"
      },
      "outputs": [
        {
          "data": {
            "text/plain": [
              "['The', 'Fulton', 'County', 'Grand', 'Jury', 'said', ...]"
            ]
          },
          "execution_count": 16,
          "metadata": {},
          "output_type": "execute_result"
        }
      ],
      "source": [
        "brown.words(categories='news')"
      ]
    },
    {
      "cell_type": "code",
      "execution_count": null,
      "id": "465f6943",
      "metadata": {
        "id": "465f6943",
        "outputId": "f86e48ec-4477-4869-cc1e-2a9b3bf3d529"
      },
      "outputs": [
        {
          "data": {
            "text/plain": [
              "['Does', 'our', 'society', 'have', 'a', 'runaway', ',', ...]"
            ]
          },
          "execution_count": 17,
          "metadata": {},
          "output_type": "execute_result"
        }
      ],
      "source": [
        "brown.words(fileids=['cg22'])"
      ]
    },
    {
      "cell_type": "code",
      "execution_count": null,
      "id": "e5c496d4",
      "metadata": {
        "id": "e5c496d4",
        "outputId": "aee2376f-6c92-4592-9268-7f7afd2cc7b6"
      },
      "outputs": [
        {
          "data": {
            "text/plain": [
              "[['The', 'Fulton', 'County', 'Grand', 'Jury', 'said', 'Friday', 'an', 'investigation', 'of', \"Atlanta's\", 'recent', 'primary', 'election', 'produced', '``', 'no', 'evidence', \"''\", 'that', 'any', 'irregularities', 'took', 'place', '.'], ['The', 'jury', 'further', 'said', 'in', 'term-end', 'presentments', 'that', 'the', 'City', 'Executive', 'Committee', ',', 'which', 'had', 'over-all', 'charge', 'of', 'the', 'election', ',', '``', 'deserves', 'the', 'praise', 'and', 'thanks', 'of', 'the', 'City', 'of', 'Atlanta', \"''\", 'for', 'the', 'manner', 'in', 'which', 'the', 'election', 'was', 'conducted', '.'], ...]"
            ]
          },
          "execution_count": 18,
          "metadata": {},
          "output_type": "execute_result"
        }
      ],
      "source": [
        "brown.sents(categories=['news', 'editorial', 'reviews'])"
      ]
    },
    {
      "cell_type": "code",
      "execution_count": null,
      "id": "3742e597",
      "metadata": {
        "id": "3742e597",
        "outputId": "dd60de33-5594-47be-8055-fc15ba241153"
      },
      "outputs": [
        {
          "name": "stdout",
          "output_type": "stream",
          "text": [
            "can: 94 could: 87 may: 93 might: 38 must: 53 will: 389 "
          ]
        }
      ],
      "source": [
        "from nltk.corpus import brown                        #print frequency of modal words\n",
        ">>> news_text = brown.words(categories='news')\n",
        ">>> fdist = nltk.FreqDist(w.lower() for w in news_text)\n",
        ">>> modals = ['can', 'could', 'may', 'might', 'must', 'will']\n",
        ">>> for m in modals:\n",
        "...     print(m + ':', fdist[m], end=' ')"
      ]
    },
    {
      "cell_type": "code",
      "execution_count": null,
      "id": "b36c6306",
      "metadata": {
        "id": "b36c6306",
        "outputId": "433fe043-03d7-4022-cbe4-a1e5ef7c0755"
      },
      "outputs": [
        {
          "name": "stdout",
          "output_type": "stream",
          "text": [
            "                  can could   may might  must  will \n",
            "           news    93    86    66    38    50   389 \n",
            "       religion    82    59    78    12    54    71 \n",
            "        hobbies   268    58   131    22    83   264 \n",
            "science_fiction    16    49     4    12     8    16 \n",
            "        romance    74   193    11    51    45    43 \n",
            "          humor    16    30     8     8     9    13 \n"
          ]
        }
      ],
      "source": [
        "cfd = nltk.ConditionalFreqDist(                #Print frequency distribution of modal words\n",
        "...           (genre, word)\n",
        "...           for genre in brown.categories()\n",
        "...           for word in brown.words(categories=genre))\n",
        ">>> genres = ['news', 'religion', 'hobbies', 'science_fiction', 'romance', 'humor']\n",
        ">>> modals = ['can', 'could', 'may', 'might', 'must', 'will']\n",
        ">>> cfd.tabulate(conditions=genres, samples=modals)"
      ]
    },
    {
      "cell_type": "code",
      "execution_count": null,
      "id": "847c53b7",
      "metadata": {
        "id": "847c53b7",
        "outputId": "bea76862-9a9b-462c-db16-315554955c95"
      },
      "outputs": [
        {
          "name": "stderr",
          "output_type": "stream",
          "text": [
            "[nltk_data] Downloading package indian to\n",
            "[nltk_data]     C:\\Users\\deepa\\AppData\\Roaming\\nltk_data...\n",
            "[nltk_data]   Unzipping corpora\\indian.zip.\n"
          ]
        },
        {
          "data": {
            "text/plain": [
              "['पूर्ण', 'प्रतिबंध', 'हटाओ', ':', 'इराक', 'संयुक्त', ...]"
            ]
          },
          "execution_count": 22,
          "metadata": {},
          "output_type": "execute_result"
        }
      ],
      "source": [
        "nltk.download('indian')\n",
        "nltk.corpus.indian.words('hindi.pos')            #Indian corpus"
      ]
    },
    {
      "cell_type": "code",
      "execution_count": null,
      "id": "1c246d99",
      "metadata": {
        "id": "1c246d99",
        "outputId": "d72a0f68-501b-4425-d4f6-d382394d25f0"
      },
      "outputs": [
        {
          "data": {
            "text/plain": [
              "'The Adventures of B'"
            ]
          },
          "execution_count": 27,
          "metadata": {},
          "output_type": "execute_result"
        }
      ],
      "source": [
        "raw = gutenberg.raw(\"burgess-busterbrown.txt\")     #prints first 20 characcters\n",
        "raw[1:20]"
      ]
    },
    {
      "cell_type": "code",
      "execution_count": null,
      "id": "08e5beb4",
      "metadata": {
        "id": "08e5beb4",
        "outputId": "5b95976a-c27e-409c-c9a6-a5e302971817"
      },
      "outputs": [
        {
          "data": {
            "text/plain": [
              "['The',\n",
              " 'Adventures',\n",
              " 'of',\n",
              " 'Buster',\n",
              " 'Bear',\n",
              " 'by',\n",
              " 'Thornton',\n",
              " 'W',\n",
              " '.',\n",
              " 'Burgess',\n",
              " '1920',\n",
              " ']',\n",
              " 'I',\n",
              " 'BUSTER',\n",
              " 'BEAR',\n",
              " 'GOES',\n",
              " 'FISHING',\n",
              " 'Buster',\n",
              " 'Bear']"
            ]
          },
          "execution_count": 28,
          "metadata": {},
          "output_type": "execute_result"
        }
      ],
      "source": [
        "words = gutenberg.words(\"burgess-busterbrown.txt\")   #prints first 20 words\n",
        ">>> words[1:20]"
      ]
    },
    {
      "cell_type": "code",
      "execution_count": null,
      "id": "d133ed78",
      "metadata": {
        "id": "d133ed78",
        "outputId": "e3e2adb9-a303-4679-815d-e06fabbe35ae"
      },
      "outputs": [
        {
          "data": {
            "text/plain": [
              "[['I'],\n",
              " ['BUSTER', 'BEAR', 'GOES', 'FISHING'],\n",
              " ['Buster',\n",
              "  'Bear',\n",
              "  'yawned',\n",
              "  'as',\n",
              "  'he',\n",
              "  'lay',\n",
              "  'on',\n",
              "  'his',\n",
              "  'comfortable',\n",
              "  'bed',\n",
              "  'of',\n",
              "  'leaves',\n",
              "  'and',\n",
              "  'watched',\n",
              "  'the',\n",
              "  'first',\n",
              "  'early',\n",
              "  'morning',\n",
              "  'sunbeams',\n",
              "  'creeping',\n",
              "  'through',\n",
              "  'the',\n",
              "  'Green',\n",
              "  'Forest',\n",
              "  'to',\n",
              "  'chase',\n",
              "  'out',\n",
              "  'the',\n",
              "  'Black',\n",
              "  'Shadows',\n",
              "  '.'],\n",
              " ['Once',\n",
              "  'more',\n",
              "  'he',\n",
              "  'yawned',\n",
              "  ',',\n",
              "  'and',\n",
              "  'slowly',\n",
              "  'got',\n",
              "  'to',\n",
              "  'his',\n",
              "  'feet',\n",
              "  'and',\n",
              "  'shook',\n",
              "  'himself',\n",
              "  '.'],\n",
              " ['Then',\n",
              "  'he',\n",
              "  'walked',\n",
              "  'over',\n",
              "  'to',\n",
              "  'a',\n",
              "  'big',\n",
              "  'pine',\n",
              "  '-',\n",
              "  'tree',\n",
              "  ',',\n",
              "  'stood',\n",
              "  'up',\n",
              "  'on',\n",
              "  'his',\n",
              "  'hind',\n",
              "  'legs',\n",
              "  ',',\n",
              "  'reached',\n",
              "  'as',\n",
              "  'high',\n",
              "  'up',\n",
              "  'on',\n",
              "  'the',\n",
              "  'trunk',\n",
              "  'of',\n",
              "  'the',\n",
              "  'tree',\n",
              "  'as',\n",
              "  'he',\n",
              "  'could',\n",
              "  ',',\n",
              "  'and',\n",
              "  'scratched',\n",
              "  'the',\n",
              "  'bark',\n",
              "  'with',\n",
              "  'his',\n",
              "  'great',\n",
              "  'claws',\n",
              "  '.'],\n",
              " ['After',\n",
              "  'that',\n",
              "  'he',\n",
              "  'yawned',\n",
              "  'until',\n",
              "  'it',\n",
              "  'seemed',\n",
              "  'as',\n",
              "  'if',\n",
              "  'his',\n",
              "  'jaws',\n",
              "  'would',\n",
              "  'crack',\n",
              "  ',',\n",
              "  'and',\n",
              "  'then',\n",
              "  'sat',\n",
              "  'down',\n",
              "  'to',\n",
              "  'think',\n",
              "  'what',\n",
              "  'he',\n",
              "  'wanted',\n",
              "  'for',\n",
              "  'breakfast',\n",
              "  '.'],\n",
              " ['While',\n",
              "  'he',\n",
              "  'sat',\n",
              "  'there',\n",
              "  ',',\n",
              "  'trying',\n",
              "  'to',\n",
              "  'make',\n",
              "  'up',\n",
              "  'his',\n",
              "  'mind',\n",
              "  'what',\n",
              "  'would',\n",
              "  'taste',\n",
              "  'best',\n",
              "  ',',\n",
              "  'he',\n",
              "  'was',\n",
              "  'listening',\n",
              "  'to',\n",
              "  'the',\n",
              "  'sounds',\n",
              "  'that',\n",
              "  'told',\n",
              "  'of',\n",
              "  'the',\n",
              "  'waking',\n",
              "  'of',\n",
              "  'all',\n",
              "  'the',\n",
              "  'little',\n",
              "  'people',\n",
              "  'who',\n",
              "  'live',\n",
              "  'in',\n",
              "  'the',\n",
              "  'Green',\n",
              "  'Forest',\n",
              "  '.'],\n",
              " ['He',\n",
              "  'heard',\n",
              "  'Sammy',\n",
              "  'Jay',\n",
              "  'way',\n",
              "  'off',\n",
              "  'in',\n",
              "  'the',\n",
              "  'distance',\n",
              "  'screaming',\n",
              "  ',',\n",
              "  '\"',\n",
              "  'Thief',\n",
              "  '!'],\n",
              " ['Thief', '!\"'],\n",
              " ['and', 'grinned', '.'],\n",
              " ['\"',\n",
              "  'I',\n",
              "  'wonder',\n",
              "  ',\"',\n",
              "  'thought',\n",
              "  'Buster',\n",
              "  ',',\n",
              "  '\"',\n",
              "  'if',\n",
              "  'some',\n",
              "  'one',\n",
              "  'has',\n",
              "  'stolen',\n",
              "  'Sammy',\n",
              "  \"'\",\n",
              "  's',\n",
              "  'breakfast',\n",
              "  ',',\n",
              "  'or',\n",
              "  'if',\n",
              "  'he',\n",
              "  'has',\n",
              "  'stolen',\n",
              "  'the',\n",
              "  'breakfast',\n",
              "  'of',\n",
              "  'some',\n",
              "  'one',\n",
              "  'else',\n",
              "  '.'],\n",
              " ['Probably', 'he', 'is', 'the', 'thief', 'himself', '.\"'],\n",
              " ['He',\n",
              "  'heard',\n",
              "  'Chatterer',\n",
              "  'the',\n",
              "  'Red',\n",
              "  'Squirrel',\n",
              "  'scolding',\n",
              "  'as',\n",
              "  'fast',\n",
              "  'as',\n",
              "  'he',\n",
              "  'could',\n",
              "  'make',\n",
              "  'his',\n",
              "  'tongue',\n",
              "  'go',\n",
              "  'and',\n",
              "  'working',\n",
              "  'himself',\n",
              "  'into',\n",
              "  'a',\n",
              "  'terrible',\n",
              "  'rage',\n",
              "  '.'],\n",
              " ['\"',\n",
              "  'Must',\n",
              "  'be',\n",
              "  'that',\n",
              "  'Chatterer',\n",
              "  'got',\n",
              "  'out',\n",
              "  'of',\n",
              "  'bed',\n",
              "  'the',\n",
              "  'wrong',\n",
              "  'way',\n",
              "  'this',\n",
              "  'morning',\n",
              "  ',\"',\n",
              "  'thought',\n",
              "  'he',\n",
              "  '.'],\n",
              " ['He',\n",
              "  'heard',\n",
              "  'Blacky',\n",
              "  'the',\n",
              "  'Crow',\n",
              "  'cawing',\n",
              "  'at',\n",
              "  'the',\n",
              "  'top',\n",
              "  'of',\n",
              "  'his',\n",
              "  'lungs',\n",
              "  ',',\n",
              "  'and',\n",
              "  'he',\n",
              "  'knew',\n",
              "  'by',\n",
              "  'the',\n",
              "  'sound',\n",
              "  'that',\n",
              "  'Blacky',\n",
              "  'was',\n",
              "  'getting',\n",
              "  'into',\n",
              "  'mischief',\n",
              "  'of',\n",
              "  'some',\n",
              "  'kind',\n",
              "  '.'],\n",
              " ['He',\n",
              "  'heard',\n",
              "  'the',\n",
              "  'sweet',\n",
              "  'voices',\n",
              "  'of',\n",
              "  'happy',\n",
              "  'little',\n",
              "  'singers',\n",
              "  ',',\n",
              "  'and',\n",
              "  'they',\n",
              "  'were',\n",
              "  'good',\n",
              "  'to',\n",
              "  'hear',\n",
              "  '.'],\n",
              " ['But',\n",
              "  'most',\n",
              "  'of',\n",
              "  'all',\n",
              "  'he',\n",
              "  'listened',\n",
              "  'to',\n",
              "  'a',\n",
              "  'merry',\n",
              "  ',',\n",
              "  'low',\n",
              "  ',',\n",
              "  'silvery',\n",
              "  'laugh',\n",
              "  'that',\n",
              "  'never',\n",
              "  'stopped',\n",
              "  'but',\n",
              "  'went',\n",
              "  'on',\n",
              "  'and',\n",
              "  'on',\n",
              "  ',',\n",
              "  'until',\n",
              "  'he',\n",
              "  'just',\n",
              "  'felt',\n",
              "  'as',\n",
              "  'if',\n",
              "  'he',\n",
              "  'must',\n",
              "  'laugh',\n",
              "  'too',\n",
              "  '.'],\n",
              " ['It', 'was', 'the', 'voice', 'of', 'the', 'Laughing', 'Brook', '.'],\n",
              " ['And',\n",
              "  'as',\n",
              "  'Buster',\n",
              "  'listened',\n",
              "  'it',\n",
              "  'suddenly',\n",
              "  'came',\n",
              "  'to',\n",
              "  'him',\n",
              "  'just',\n",
              "  'what',\n",
              "  'he',\n",
              "  'wanted',\n",
              "  'for',\n",
              "  'breakfast',\n",
              "  '.']]"
            ]
          },
          "execution_count": 30,
          "metadata": {},
          "output_type": "execute_result"
        }
      ],
      "source": [
        "sents = gutenberg.sents(\"burgess-busterbrown.txt\") #first 20 sentences\n",
        ">>> sents[1:20]"
      ]
    },
    {
      "cell_type": "code",
      "execution_count": null,
      "id": "98d6995f",
      "metadata": {
        "id": "98d6995f",
        "outputId": "6c0efb59-a95b-45ae-c217-a31db5a533ee"
      },
      "outputs": [
        {
          "data": {
            "text/plain": [
              "['A', 'A', \"'\", 's', 'AA', \"'\", 's', 'AB', \"'\", 's', ...]"
            ]
          },
          "execution_count": 59,
          "metadata": {},
          "output_type": "execute_result"
        }
      ],
      "source": [
        "from nltk.corpus import PlaintextCorpusReader\n",
        ">>> corpus_root = 'C:\\Corpus'   # Root folder where the text files are located\n",
        "filelists = PlaintextCorpusReader(corpus_root, '.*')  # Read the list of files\n",
        "filelists.fileids()  # List down the IDs of the files read from the local storage\n",
        "wordslist = filelists.words('words') # Read the text from specific file  . similarly use sents paras\n",
        "wordslist"
      ]
    },
    {
      "cell_type": "code",
      "execution_count": null,
      "id": "adce4ec8",
      "metadata": {
        "id": "adce4ec8",
        "outputId": "d766e40c-4e5b-4ffc-955d-673436e5b472"
      },
      "outputs": [
        {
          "data": {
            "text/plain": [
              "['Achilles',\n",
              " 'Abbasid',\n",
              " 'Abram',\n",
              " 'Acrux',\n",
              " 'AWOL',\n",
              " 'Adolfo',\n",
              " 'Achebe',\n",
              " 'Adela',\n",
              " 'Adonis',\n",
              " 'Abner',\n",
              " 'Acton',\n",
              " 'Adana',\n",
              " 'Abelson',\n",
              " 'Adriana',\n",
              " 'Acts',\n",
              " 'Abel',\n",
              " 'Aaliyah',\n",
              " 'Aden',\n",
              " 'Abuja',\n",
              " 'Aegean',\n",
              " 'Advent',\n",
              " 'Addison',\n",
              " 'Aconcagua',\n",
              " 'Adidas',\n",
              " 'Adonises',\n",
              " 'Adriatic',\n",
              " 'Abbas',\n",
              " 'Absalom',\n",
              " 'Adeline',\n",
              " 'Acapulco',\n",
              " 'Advil',\n",
              " 'Adirondack',\n",
              " 'Abyssinia',\n",
              " 'Accenture',\n",
              " 'Acosta',\n",
              " 'Adenauer',\n",
              " 'Abraham',\n",
              " 'Adar',\n",
              " 'Adams',\n",
              " 'Abbott',\n",
              " 'Adkins',\n",
              " 'Adirondacks',\n",
              " 'Abdul',\n",
              " 'Adam',\n",
              " 'Acadia',\n",
              " 'Aaron',\n",
              " 'Adele',\n",
              " 'Aelfric',\n",
              " 'Aeneas',\n",
              " 'Adolph',\n",
              " 'Adler',\n",
              " 'Abby',\n",
              " 'Adderley',\n",
              " 'Actaeon',\n",
              " 'Acuff',\n",
              " 'Achernar',\n",
              " 'ASCII',\n",
              " 'Achaean',\n",
              " 'Accra',\n",
              " 'Adolf',\n",
              " 'Adhara',\n",
              " 'Abernathy',\n",
              " 'Acheson',\n",
              " 'Abilene',\n",
              " 'Adventist',\n",
              " 'Abigail',\n",
              " 'Abelard',\n",
              " 'Abrams',\n",
              " 'AIDS',\n",
              " 'Adan',\n",
              " 'Addams',\n",
              " 'Aeneid',\n",
              " 'Adrian',\n",
              " 'Advents',\n",
              " 'Acevedo',\n",
              " 'Abyssinian',\n",
              " 'ACTH',\n",
              " 'Addie',\n",
              " 'Acropolis',\n",
              " 'Abidjan',\n",
              " 'Adelaide',\n",
              " 'Aachen',\n",
              " 'Aberdeen',\n",
              " 'Adrienne']"
            ]
          },
          "execution_count": 62,
          "metadata": {},
          "output_type": "execute_result"
        }
      ],
      "source": [
        "filtered_words = [words for words in set(wordslist) if len(words) > 3]\n",
        "filtered_words"
      ]
    },
    {
      "cell_type": "code",
      "execution_count": null,
      "id": "f129d034",
      "metadata": {
        "id": "f129d034",
        "outputId": "b8038801-1b19-47e9-b468-16da4638c199"
      },
      "outputs": [
        {
          "data": {
            "image/png": "[encoded data removed]",
            "text/plain": [
              "<Figure size 640x480 with 1 Axes>"
            ]
          },
          "metadata": {},
          "output_type": "display_data"
        },
        {
          "data": {
            "text/plain": [
              "<Axes: xlabel='Samples', ylabel='Cumulative Counts'>"
            ]
          },
          "execution_count": 64,
          "metadata": {},
          "output_type": "execute_result"
        }
      ],
      "source": [
        "from nltk.probability import FreqDist\n",
        "#\n",
        "# Frequency distribution\n",
        "#\n",
        "fdist = FreqDist(wordslist)\n",
        "#\n",
        "# Plot the frequency distribution of 30 words with\n",
        "# cumulative = True\n",
        "#\n",
        "fdist.plot(30, cumulative=True)"
      ]
    },
    {
      "cell_type": "code",
      "execution_count": null,
      "id": "f5aa6073",
      "metadata": {
        "id": "f5aa6073",
        "outputId": "bc5aa4ef-85fa-410f-885c-f6f78ba5d800"
      },
      "outputs": [
        {
          "data": {
            "text/plain": [
              "170576"
            ]
          },
          "execution_count": 68,
          "metadata": {},
          "output_type": "execute_result"
        }
      ],
      "source": [
        "from nltk.corpus import brown\n",
        ">>> cfd = nltk.ConditionalFreqDist(\n",
        "...           (genre, word)\n",
        "...           for genre in brown.categories()\n",
        "...           for word in brown.words(categories=genre))\n",
        "#two genres, news and romance. For each genre [2], we loop over every word in the genre [3], producing pairs consisting of the genre and the word [1]:\n",
        "genre_word = [(genre, word) [1]\n",
        "...               for genre in ['news', 'romance']\n",
        "...               for word in brown.words(categories=genre)]\n",
        ">>> len(genre_word)"
      ]
    },
    {
      "cell_type": "code",
      "execution_count": null,
      "id": "3b4e8e74",
      "metadata": {
        "id": "3b4e8e74",
        "outputId": "442de9dd-b9be-4a51-95c5-b851e311828d"
      },
      "outputs": [
        {
          "data": {
            "text/plain": [
              "['The', 'Fulton', 'County', 'Grand']"
            ]
          },
          "execution_count": 69,
          "metadata": {},
          "output_type": "execute_result"
        }
      ],
      "source": [
        "genre_word[:4]   #start 4 words"
      ]
    },
    {
      "cell_type": "code",
      "execution_count": null,
      "id": "aeb03bbc",
      "metadata": {
        "id": "aeb03bbc",
        "outputId": "9a813d00-f8b9-43ed-90ba-c2349902a712"
      },
      "outputs": [
        {
          "data": {
            "text/plain": [
              "['afraid', 'not', \"''\", '.']"
            ]
          },
          "execution_count": 77,
          "metadata": {},
          "output_type": "execute_result"
        }
      ],
      "source": [
        "genre_word[-4:]  #last 4 words"
      ]
    },
    {
      "cell_type": "code",
      "execution_count": null,
      "id": "fe9ab5cf",
      "metadata": {
        "id": "fe9ab5cf",
        "outputId": "9ac2216e-47bd-4fb7-a47b-6bbeb879adca"
      },
      "outputs": [
        {
          "ename": "ValueError",
          "evalue": "too many values to unpack (expected 2)",
          "output_type": "error",
          "traceback": [
            "\u001b[1;31m---------------------------------------------------------------------------\u001b[0m",
            "\u001b[1;31mValueError\u001b[0m                                Traceback (most recent call last)",
            "Cell \u001b[1;32mIn[79], line 1\u001b[0m\n\u001b[1;32m----> 1\u001b[0m cfd \u001b[38;5;241m=\u001b[39m nltk\u001b[38;5;241m.\u001b[39mConditionalFreqDist(genre_word)\n\u001b[0;32m      2\u001b[0m cfd\n",
            "File \u001b[1;32m~\\anaconda3\\Lib\\site-packages\\nltk\\probability.py:1894\u001b[0m, in \u001b[0;36mConditionalFreqDist.__init__\u001b[1;34m(self, cond_samples)\u001b[0m\n\u001b[0;32m   1891\u001b[0m defaultdict\u001b[38;5;241m.\u001b[39m\u001b[38;5;21m__init__\u001b[39m(\u001b[38;5;28mself\u001b[39m, FreqDist)\n\u001b[0;32m   1893\u001b[0m \u001b[38;5;28;01mif\u001b[39;00m cond_samples:\n\u001b[1;32m-> 1894\u001b[0m     \u001b[38;5;28;01mfor\u001b[39;00m (cond, sample) \u001b[38;5;129;01min\u001b[39;00m cond_samples:\n\u001b[0;32m   1895\u001b[0m         \u001b[38;5;28mself\u001b[39m[cond][sample] \u001b[38;5;241m+\u001b[39m\u001b[38;5;241m=\u001b[39m \u001b[38;5;241m1\u001b[39m\n",
            "\u001b[1;31mValueError\u001b[0m: too many values to unpack (expected 2)"
          ]
        }
      ],
      "source": [
        "cfd = nltk.ConditionalFreqDist(genre_word)\n",
        "cfd"
      ]
    },
    {
      "cell_type": "code",
      "execution_count": null,
      "id": "f5bce09a",
      "metadata": {
        "id": "f5bce09a",
        "outputId": "50ddb667-bc3e-402e-acae-46ba93160b91"
      },
      "outputs": [
        {
          "name": "stdout",
          "output_type": "stream",
          "text": [
            "<FreqDist with 14394 samples and 100554 outcomes>\n"
          ]
        }
      ],
      "source": [
        "print(cfd['news'])"
      ]
    },
    {
      "cell_type": "code",
      "execution_count": null,
      "id": "8b93b5e4",
      "metadata": {
        "id": "8b93b5e4",
        "outputId": "1a899b9a-402a-441e-b21b-7d59ee078ef0"
      },
      "outputs": [
        {
          "name": "stdout",
          "output_type": "stream",
          "text": [
            "<FreqDist with 8452 samples and 70022 outcomes>\n"
          ]
        }
      ],
      "source": [
        "print(cfd['romance'])"
      ]
    },
    {
      "cell_type": "code",
      "execution_count": null,
      "id": "3db47fb1",
      "metadata": {
        "id": "3db47fb1",
        "outputId": "17869357-aeb4-4e17-efeb-b57834e54dbf"
      },
      "outputs": [
        {
          "data": {
            "text/plain": [
              "[(',', 3899),\n",
              " ('.', 3736),\n",
              " ('the', 2758),\n",
              " ('and', 1776),\n",
              " ('to', 1502),\n",
              " ('a', 1335),\n",
              " ('of', 1186),\n",
              " ('``', 1045),\n",
              " (\"''\", 1044),\n",
              " ('was', 993),\n",
              " ('I', 951),\n",
              " ('in', 875),\n",
              " ('he', 702),\n",
              " ('had', 692),\n",
              " ('?', 690),\n",
              " ('her', 651),\n",
              " ('that', 583),\n",
              " ('it', 573),\n",
              " ('his', 559),\n",
              " ('she', 496)]"
            ]
          },
          "execution_count": 73,
          "metadata": {},
          "output_type": "execute_result"
        }
      ],
      "source": [
        "cfd['romance'].most_common(20)"
      ]
    },
    {
      "cell_type": "code",
      "execution_count": null,
      "id": "95e04fbb",
      "metadata": {
        "id": "95e04fbb",
        "outputId": "94f4e906-7ae3-4311-dcc3-589d2d114495"
      },
      "outputs": [
        {
          "data": {
            "text/plain": [
              "['i',\n",
              " 'me',\n",
              " 'my',\n",
              " 'myself',\n",
              " 'we',\n",
              " 'our',\n",
              " 'ours',\n",
              " 'ourselves',\n",
              " 'you',\n",
              " \"you're\",\n",
              " \"you've\",\n",
              " \"you'll\",\n",
              " \"you'd\",\n",
              " 'your',\n",
              " 'yours',\n",
              " 'yourself',\n",
              " 'yourselves',\n",
              " 'he',\n",
              " 'him',\n",
              " 'his',\n",
              " 'himself',\n",
              " 'she',\n",
              " \"she's\",\n",
              " 'her',\n",
              " 'hers',\n",
              " 'herself',\n",
              " 'it',\n",
              " \"it's\",\n",
              " 'its',\n",
              " 'itself',\n",
              " 'they',\n",
              " 'them',\n",
              " 'their',\n",
              " 'theirs',\n",
              " 'themselves',\n",
              " 'what',\n",
              " 'which',\n",
              " 'who',\n",
              " 'whom',\n",
              " 'this',\n",
              " 'that',\n",
              " \"that'll\",\n",
              " 'these',\n",
              " 'those',\n",
              " 'am',\n",
              " 'is',\n",
              " 'are',\n",
              " 'was',\n",
              " 'were',\n",
              " 'be',\n",
              " 'been',\n",
              " 'being',\n",
              " 'have',\n",
              " 'has',\n",
              " 'had',\n",
              " 'having',\n",
              " 'do',\n",
              " 'does',\n",
              " 'did',\n",
              " 'doing',\n",
              " 'a',\n",
              " 'an',\n",
              " 'the',\n",
              " 'and',\n",
              " 'but',\n",
              " 'if',\n",
              " 'or',\n",
              " 'because',\n",
              " 'as',\n",
              " 'until',\n",
              " 'while',\n",
              " 'of',\n",
              " 'at',\n",
              " 'by',\n",
              " 'for',\n",
              " 'with',\n",
              " 'about',\n",
              " 'against',\n",
              " 'between',\n",
              " 'into',\n",
              " 'through',\n",
              " 'during',\n",
              " 'before',\n",
              " 'after',\n",
              " 'above',\n",
              " 'below',\n",
              " 'to',\n",
              " 'from',\n",
              " 'up',\n",
              " 'down',\n",
              " 'in',\n",
              " 'out',\n",
              " 'on',\n",
              " 'off',\n",
              " 'over',\n",
              " 'under',\n",
              " 'again',\n",
              " 'further',\n",
              " 'then',\n",
              " 'once',\n",
              " 'here',\n",
              " 'there',\n",
              " 'when',\n",
              " 'where',\n",
              " 'why',\n",
              " 'how',\n",
              " 'all',\n",
              " 'any',\n",
              " 'both',\n",
              " 'each',\n",
              " 'few',\n",
              " 'more',\n",
              " 'most',\n",
              " 'other',\n",
              " 'some',\n",
              " 'such',\n",
              " 'no',\n",
              " 'nor',\n",
              " 'not',\n",
              " 'only',\n",
              " 'own',\n",
              " 'same',\n",
              " 'so',\n",
              " 'than',\n",
              " 'too',\n",
              " 'very',\n",
              " 's',\n",
              " 't',\n",
              " 'can',\n",
              " 'will',\n",
              " 'just',\n",
              " 'don',\n",
              " \"don't\",\n",
              " 'should',\n",
              " \"should've\",\n",
              " 'now',\n",
              " 'd',\n",
              " 'll',\n",
              " 'm',\n",
              " 'o',\n",
              " 're',\n",
              " 've',\n",
              " 'y',\n",
              " 'ain',\n",
              " 'aren',\n",
              " \"aren't\",\n",
              " 'couldn',\n",
              " \"couldn't\",\n",
              " 'didn',\n",
              " \"didn't\",\n",
              " 'doesn',\n",
              " \"doesn't\",\n",
              " 'hadn',\n",
              " \"hadn't\",\n",
              " 'hasn',\n",
              " \"hasn't\",\n",
              " 'haven',\n",
              " \"haven't\",\n",
              " 'isn',\n",
              " \"isn't\",\n",
              " 'ma',\n",
              " 'mightn',\n",
              " \"mightn't\",\n",
              " 'mustn',\n",
              " \"mustn't\",\n",
              " 'needn',\n",
              " \"needn't\",\n",
              " 'shan',\n",
              " \"shan't\",\n",
              " 'shouldn',\n",
              " \"shouldn't\",\n",
              " 'wasn',\n",
              " \"wasn't\",\n",
              " 'weren',\n",
              " \"weren't\",\n",
              " 'won',\n",
              " \"won't\",\n",
              " 'wouldn',\n",
              " \"wouldn't\"]"
            ]
          },
          "execution_count": 81,
          "metadata": {},
          "output_type": "execute_result"
        }
      ],
      "source": [
        "from nltk.corpus import stopwords   #stopwords - high-frequency words like the, to and also that we sometimes want to filter out of a document before further processing. Stopwords usually have little lexical content, and their presence in a text fails to distinguish it from other texts.\n",
        ">>> stopwords.words('english')"
      ]
    },
    {
      "cell_type": "code",
      "execution_count": null,
      "id": "7c0806f5",
      "metadata": {
        "id": "7c0806f5",
        "outputId": "e10c9f68-51f1-4cc6-b0c1-0a9d9decd242"
      },
      "outputs": [
        {
          "data": {
            "text/plain": [
              "0.5909126139346464"
            ]
          },
          "execution_count": 84,
          "metadata": {},
          "output_type": "execute_result"
        }
      ],
      "source": [
        "def content_fraction(text):      # a function to compute what fraction of words in a text are not in the stopwords list:\n",
        "...     stopwords = nltk.corpus.stopwords.words('english')\n",
        "...     content = [w for w in text if w.lower() not in stopwords]\n",
        "...     return len(content) / len(text)\n",
        "...\n",
        "content_fraction(nltk.corpus.brown.words())"
      ]
    },
    {
      "cell_type": "code",
      "execution_count": null,
      "id": "5972cded",
      "metadata": {
        "id": "5972cded",
        "outputId": "df5883fb-3f2a-4d60-f6a7-1fccde820329"
      },
      "outputs": [
        {
          "name": "stderr",
          "output_type": "stream",
          "text": [
            "[nltk_data] Downloading package names to\n",
            "[nltk_data]     C:\\Users\\deepa\\AppData\\Roaming\\nltk_data...\n",
            "[nltk_data]   Unzipping corpora\\names.zip.\n"
          ]
        },
        {
          "data": {
            "text/plain": [
              "['Abbey',\n",
              " 'Abbie',\n",
              " 'Abby',\n",
              " 'Addie',\n",
              " 'Adrian',\n",
              " 'Adrien',\n",
              " 'Ajay',\n",
              " 'Alex',\n",
              " 'Alexis',\n",
              " 'Alfie',\n",
              " 'Ali',\n",
              " 'Alix',\n",
              " 'Allie',\n",
              " 'Allyn',\n",
              " 'Andie',\n",
              " 'Andrea',\n",
              " 'Andy',\n",
              " 'Angel',\n",
              " 'Angie',\n",
              " 'Ariel',\n",
              " 'Ashley',\n",
              " 'Aubrey',\n",
              " 'Augustine',\n",
              " 'Austin',\n",
              " 'Averil',\n",
              " 'Barrie',\n",
              " 'Barry',\n",
              " 'Beau',\n",
              " 'Bennie',\n",
              " 'Benny',\n",
              " 'Bernie',\n",
              " 'Bert',\n",
              " 'Bertie',\n",
              " 'Bill',\n",
              " 'Billie',\n",
              " 'Billy',\n",
              " 'Blair',\n",
              " 'Blake',\n",
              " 'Bo',\n",
              " 'Bobbie',\n",
              " 'Bobby',\n",
              " 'Brandy',\n",
              " 'Brett',\n",
              " 'Britt',\n",
              " 'Brook',\n",
              " 'Brooke',\n",
              " 'Brooks',\n",
              " 'Bryn',\n",
              " 'Cal',\n",
              " 'Cam',\n",
              " 'Cammy',\n",
              " 'Carey',\n",
              " 'Carlie',\n",
              " 'Carlin',\n",
              " 'Carmine',\n",
              " 'Carroll',\n",
              " 'Cary',\n",
              " 'Caryl',\n",
              " 'Casey',\n",
              " 'Cass',\n",
              " 'Cat',\n",
              " 'Cecil',\n",
              " 'Chad',\n",
              " 'Chris',\n",
              " 'Chrissy',\n",
              " 'Christian',\n",
              " 'Christie',\n",
              " 'Christy',\n",
              " 'Clair',\n",
              " 'Claire',\n",
              " 'Clare',\n",
              " 'Claude',\n",
              " 'Clem',\n",
              " 'Clemmie',\n",
              " 'Cody',\n",
              " 'Connie',\n",
              " 'Constantine',\n",
              " 'Corey',\n",
              " 'Corrie',\n",
              " 'Cory',\n",
              " 'Courtney',\n",
              " 'Cris',\n",
              " 'Daffy',\n",
              " 'Dale',\n",
              " 'Dallas',\n",
              " 'Dana',\n",
              " 'Dani',\n",
              " 'Daniel',\n",
              " 'Dannie',\n",
              " 'Danny',\n",
              " 'Darby',\n",
              " 'Darcy',\n",
              " 'Darryl',\n",
              " 'Daryl',\n",
              " 'Deane',\n",
              " 'Del',\n",
              " 'Dell',\n",
              " 'Demetris',\n",
              " 'Dennie',\n",
              " 'Denny',\n",
              " 'Devin',\n",
              " 'Devon',\n",
              " 'Dion',\n",
              " 'Dionis',\n",
              " 'Dominique',\n",
              " 'Donnie',\n",
              " 'Donny',\n",
              " 'Dorian',\n",
              " 'Dory',\n",
              " 'Drew',\n",
              " 'Eddie',\n",
              " 'Eddy',\n",
              " 'Edie',\n",
              " 'Elisha',\n",
              " 'Emmy',\n",
              " 'Erin',\n",
              " 'Esme',\n",
              " 'Evelyn',\n",
              " 'Felice',\n",
              " 'Fran',\n",
              " 'Francis',\n",
              " 'Frank',\n",
              " 'Frankie',\n",
              " 'Franky',\n",
              " 'Fred',\n",
              " 'Freddie',\n",
              " 'Freddy',\n",
              " 'Gabriel',\n",
              " 'Gabriell',\n",
              " 'Gail',\n",
              " 'Gale',\n",
              " 'Gay',\n",
              " 'Gayle',\n",
              " 'Gene',\n",
              " 'George',\n",
              " 'Georgia',\n",
              " 'Georgie',\n",
              " 'Geri',\n",
              " 'Germaine',\n",
              " 'Gerri',\n",
              " 'Gerry',\n",
              " 'Gill',\n",
              " 'Ginger',\n",
              " 'Glen',\n",
              " 'Glenn',\n",
              " 'Grace',\n",
              " 'Gretchen',\n",
              " 'Gus',\n",
              " 'Haleigh',\n",
              " 'Haley',\n",
              " 'Hannibal',\n",
              " 'Harley',\n",
              " 'Hazel',\n",
              " 'Heath',\n",
              " 'Henrie',\n",
              " 'Hilary',\n",
              " 'Hillary',\n",
              " 'Holly',\n",
              " 'Ike',\n",
              " 'Ikey',\n",
              " 'Ira',\n",
              " 'Isa',\n",
              " 'Isador',\n",
              " 'Isadore',\n",
              " 'Jackie',\n",
              " 'Jaime',\n",
              " 'Jamie',\n",
              " 'Jan',\n",
              " 'Jean',\n",
              " 'Jere',\n",
              " 'Jermaine',\n",
              " 'Jerrie',\n",
              " 'Jerry',\n",
              " 'Jess',\n",
              " 'Jesse',\n",
              " 'Jessie',\n",
              " 'Jo',\n",
              " 'Jodi',\n",
              " 'Jodie',\n",
              " 'Jody',\n",
              " 'Joey',\n",
              " 'Jordan',\n",
              " 'Juanita',\n",
              " 'Jude',\n",
              " 'Judith',\n",
              " 'Judy',\n",
              " 'Julie',\n",
              " 'Justin',\n",
              " 'Karel',\n",
              " 'Kellen',\n",
              " 'Kelley',\n",
              " 'Kelly',\n",
              " 'Kelsey',\n",
              " 'Kerry',\n",
              " 'Kim',\n",
              " 'Kip',\n",
              " 'Kirby',\n",
              " 'Kit',\n",
              " 'Kris',\n",
              " 'Kyle',\n",
              " 'Lane',\n",
              " 'Lanny',\n",
              " 'Lauren',\n",
              " 'Laurie',\n",
              " 'Lee',\n",
              " 'Leigh',\n",
              " 'Leland',\n",
              " 'Lesley',\n",
              " 'Leslie',\n",
              " 'Lin',\n",
              " 'Lind',\n",
              " 'Lindsay',\n",
              " 'Lindsey',\n",
              " 'Lindy',\n",
              " 'Lonnie',\n",
              " 'Loren',\n",
              " 'Lorne',\n",
              " 'Lorrie',\n",
              " 'Lou',\n",
              " 'Luce',\n",
              " 'Lyn',\n",
              " 'Lynn',\n",
              " 'Maddie',\n",
              " 'Maddy',\n",
              " 'Marietta',\n",
              " 'Marion',\n",
              " 'Marlo',\n",
              " 'Martie',\n",
              " 'Marty',\n",
              " 'Mattie',\n",
              " 'Matty',\n",
              " 'Maurise',\n",
              " 'Max',\n",
              " 'Maxie',\n",
              " 'Mead',\n",
              " 'Meade',\n",
              " 'Mel',\n",
              " 'Meredith',\n",
              " 'Merle',\n",
              " 'Merrill',\n",
              " 'Merry',\n",
              " 'Meryl',\n",
              " 'Michal',\n",
              " 'Michel',\n",
              " 'Michele',\n",
              " 'Mickie',\n",
              " 'Micky',\n",
              " 'Millicent',\n",
              " 'Morgan',\n",
              " 'Morlee',\n",
              " 'Muffin',\n",
              " 'Nat',\n",
              " 'Nichole',\n",
              " 'Nickie',\n",
              " 'Nicky',\n",
              " 'Niki',\n",
              " 'Nikki',\n",
              " 'Noel',\n",
              " 'Ollie',\n",
              " 'Page',\n",
              " 'Paige',\n",
              " 'Pat',\n",
              " 'Patrice',\n",
              " 'Patsy',\n",
              " 'Pattie',\n",
              " 'Patty',\n",
              " 'Pen',\n",
              " 'Pennie',\n",
              " 'Penny',\n",
              " 'Perry',\n",
              " 'Phil',\n",
              " 'Pooh',\n",
              " 'Quentin',\n",
              " 'Quinn',\n",
              " 'Randi',\n",
              " 'Randie',\n",
              " 'Randy',\n",
              " 'Ray',\n",
              " 'Regan',\n",
              " 'Reggie',\n",
              " 'Rene',\n",
              " 'Rey',\n",
              " 'Ricki',\n",
              " 'Rickie',\n",
              " 'Ricky',\n",
              " 'Rikki',\n",
              " 'Robbie',\n",
              " 'Robin',\n",
              " 'Ronnie',\n",
              " 'Ronny',\n",
              " 'Rory',\n",
              " 'Ruby',\n",
              " 'Sal',\n",
              " 'Sam',\n",
              " 'Sammy',\n",
              " 'Sandy',\n",
              " 'Sascha',\n",
              " 'Sasha',\n",
              " 'Saundra',\n",
              " 'Sayre',\n",
              " 'Scotty',\n",
              " 'Sean',\n",
              " 'Shaine',\n",
              " 'Shane',\n",
              " 'Shannon',\n",
              " 'Shaun',\n",
              " 'Shawn',\n",
              " 'Shay',\n",
              " 'Shayne',\n",
              " 'Shea',\n",
              " 'Shelby',\n",
              " 'Shell',\n",
              " 'Shelley',\n",
              " 'Sibyl',\n",
              " 'Simone',\n",
              " 'Sonnie',\n",
              " 'Sonny',\n",
              " 'Stacy',\n",
              " 'Sunny',\n",
              " 'Sydney',\n",
              " 'Tabbie',\n",
              " 'Tabby',\n",
              " 'Tallie',\n",
              " 'Tally',\n",
              " 'Tammie',\n",
              " 'Tammy',\n",
              " 'Tate',\n",
              " 'Ted',\n",
              " 'Teddie',\n",
              " 'Teddy',\n",
              " 'Terri',\n",
              " 'Terry',\n",
              " 'Theo',\n",
              " 'Tim',\n",
              " 'Timmie',\n",
              " 'Timmy',\n",
              " 'Tobe',\n",
              " 'Tobie',\n",
              " 'Toby',\n",
              " 'Tommie',\n",
              " 'Tommy',\n",
              " 'Tony',\n",
              " 'Torey',\n",
              " 'Trace',\n",
              " 'Tracey',\n",
              " 'Tracie',\n",
              " 'Tracy',\n",
              " 'Val',\n",
              " 'Vale',\n",
              " 'Valentine',\n",
              " 'Van',\n",
              " 'Vin',\n",
              " 'Vinnie',\n",
              " 'Vinny',\n",
              " 'Virgie',\n",
              " 'Wallie',\n",
              " 'Wallis',\n",
              " 'Wally',\n",
              " 'Whitney',\n",
              " 'Willi',\n",
              " 'Willie',\n",
              " 'Willy',\n",
              " 'Winnie',\n",
              " 'Winny',\n",
              " 'Wynn']"
            ]
          },
          "execution_count": 89,
          "metadata": {},
          "output_type": "execute_result"
        }
      ],
      "source": [
        "nltk.download('names')\n",
        "names = nltk.corpus.names   #The male and female names are stored in separate files. Let's find names which appear in both files,\n",
        "names.fileids()\n",
        "['female.txt', 'male.txt']\n",
        "male_names = names.words('male.txt')\n",
        "female_names = names.words('female.txt')\n",
        "[w for w in male_names if w in female_names]"
      ]
    },
    {
      "cell_type": "code",
      "execution_count": null,
      "id": "3bf284f2",
      "metadata": {
        "id": "3bf284f2",
        "outputId": "c7efab46-b25b-4478-daa0-da8662a27d93"
      },
      "outputs": [
        {
          "data": {
            "image/png": "[encoded data removed]",
            "text/plain": [
              "<Figure size 640x480 with 1 Axes>"
            ]
          },
          "metadata": {},
          "output_type": "display_data"
        },
        {
          "data": {
            "text/plain": [
              "<Axes: xlabel='Samples', ylabel='Counts'>"
            ]
          },
          "execution_count": 90,
          "metadata": {},
          "output_type": "execute_result"
        }
      ],
      "source": [
        "cfd = nltk.ConditionalFreqDist(\n",
        "...           (fileid, name[-1])  #last letter of name\n",
        "...           for fileid in names.fileids()\n",
        "...           for name in names.words(fileid))\n",
        ">>> cfd.plot()"
      ]
    },
    {
      "cell_type": "code",
      "execution_count": null,
      "id": "9a9cdfc6",
      "metadata": {
        "scrolled": true,
        "id": "9a9cdfc6",
        "outputId": "b9c801a0-ed12-467f-b65f-9242412a26e1"
      },
      "outputs": [
        {
          "name": "stderr",
          "output_type": "stream",
          "text": [
            "[nltk_data] Downloading package wordnet to\n",
            "[nltk_data]     C:\\Users\\deepa\\AppData\\Roaming\\nltk_data...\n",
            "[nltk_data]   Package wordnet is already up-to-date!\n"
          ]
        },
        {
          "data": {
            "text/plain": [
              "[Synset('car.n.01')]"
            ]
          },
          "execution_count": 103,
          "metadata": {},
          "output_type": "execute_result"
        }
      ],
      "source": [
        "#wordnet- large lexical database of English https://wordnet.princeton.edu/ with synonyms, antonyms, hyponims, entailment etc.\n",
        "nltk.download('wordnet')\n",
        "from nltk.corpus import wordnet as wn\n",
        "wn.synsets('motorcar')   #motorcar has just one possible meaning and it is identified as car.n.01, the first noun sense of car. The entity car.n.01 is called a synset, or \"synonym set\", a collection of synonymous words (or \"lemmas\")"
      ]
    },
    {
      "cell_type": "code",
      "execution_count": null,
      "id": "ae588295",
      "metadata": {
        "id": "ae588295",
        "outputId": "16c718d0-081e-4a96-bd16-bfda00b20434"
      },
      "outputs": [
        {
          "data": {
            "text/plain": [
              "['car', 'auto', 'automobile', 'machine', 'motorcar']"
            ]
          },
          "execution_count": 104,
          "metadata": {},
          "output_type": "execute_result"
        }
      ],
      "source": [
        "wn.synset('car.n.01').lemma_names()  #other lemmas of car"
      ]
    },
    {
      "cell_type": "code",
      "execution_count": null,
      "id": "367aa86c",
      "metadata": {
        "id": "367aa86c",
        "outputId": "2562fb0f-ef35-4e13-b9a8-a7b1020f8616"
      },
      "outputs": [
        {
          "data": {
            "text/plain": [
              "'a motor vehicle with four wheels; usually propelled by an internal combustion engine'"
            ]
          },
          "execution_count": 105,
          "metadata": {},
          "output_type": "execute_result"
        }
      ],
      "source": [
        "wn.synset('car.n.01').definition()  #gives definition of the word"
      ]
    },
    {
      "cell_type": "code",
      "execution_count": null,
      "id": "ea932338",
      "metadata": {
        "id": "ea932338",
        "outputId": "a3d111eb-bbb1-425e-e87c-c29e41991e18"
      },
      "outputs": [
        {
          "data": {
            "text/plain": [
              "['he needs a car to get to work']"
            ]
          },
          "execution_count": 106,
          "metadata": {},
          "output_type": "execute_result"
        }
      ],
      "source": [
        "wn.synset('car.n.01').examples()  #gives example usage"
      ]
    },
    {
      "cell_type": "code",
      "execution_count": null,
      "id": "67365165",
      "metadata": {
        "id": "67365165"
      },
      "outputs": [],
      "source": []
    },
    {
      "cell_type": "code",
      "execution_count": null,
      "id": "29382958",
      "metadata": {
        "id": "29382958",
        "outputId": "61a39812-9270-48d1-c5fe-2a87308fd01e"
      },
      "outputs": [
        {
          "data": {
            "text/plain": [
              "[Lemma('car.n.01.car'),\n",
              " Lemma('car.n.01.auto'),\n",
              " Lemma('car.n.01.automobile'),\n",
              " Lemma('car.n.01.machine'),\n",
              " Lemma('car.n.01.motorcar')]"
            ]
          },
          "execution_count": 107,
          "metadata": {},
          "output_type": "execute_result"
        }
      ],
      "source": [
        "wn.synset('car.n.01').lemmas()  #all the lemmas for a given synset"
      ]
    },
    {
      "cell_type": "code",
      "execution_count": null,
      "id": "8384abfa",
      "metadata": {
        "id": "8384abfa",
        "outputId": "c1499c61-e021-451c-c39c-59d56ca77661"
      },
      "outputs": [
        {
          "data": {
            "text/plain": [
              "Lemma('car.n.01.automobile')"
            ]
          },
          "execution_count": 108,
          "metadata": {},
          "output_type": "execute_result"
        }
      ],
      "source": [
        "wn.lemma('car.n.01.automobile') #look up a particular lemma"
      ]
    },
    {
      "cell_type": "code",
      "execution_count": null,
      "id": "457ebd95",
      "metadata": {
        "id": "457ebd95",
        "outputId": "934ee311-d819-49a0-be94-df60326d9b6d"
      },
      "outputs": [
        {
          "data": {
            "text/plain": [
              "Synset('car.n.01')"
            ]
          },
          "execution_count": 109,
          "metadata": {},
          "output_type": "execute_result"
        }
      ],
      "source": [
        "wn.lemma('car.n.01.automobile').synset() #get the synset corresponding to a lemma"
      ]
    },
    {
      "cell_type": "code",
      "execution_count": null,
      "id": "075426ac",
      "metadata": {
        "id": "075426ac",
        "outputId": "43dbdedf-b627-4d66-b1ac-94b18781ffb4"
      },
      "outputs": [
        {
          "data": {
            "text/plain": [
              "'automobile'"
            ]
          },
          "execution_count": 110,
          "metadata": {},
          "output_type": "execute_result"
        }
      ],
      "source": [
        "wn.lemma('car.n.01.automobile').name() #get the \"name\" of a lemma"
      ]
    },
    {
      "cell_type": "code",
      "execution_count": null,
      "id": "ca98f438",
      "metadata": {
        "id": "ca98f438",
        "outputId": "14ef9040-1d99-43ad-8f44-b06e4616f2a4"
      },
      "outputs": [
        {
          "data": {
            "text/plain": [
              "[Synset('car.n.01'),\n",
              " Synset('car.n.02'),\n",
              " Synset('car.n.03'),\n",
              " Synset('car.n.04'),\n",
              " Synset('cable_car.n.01')]"
            ]
          },
          "execution_count": 111,
          "metadata": {},
          "output_type": "execute_result"
        }
      ],
      "source": [
        "wn.synsets('car') #Unlike the word motorcar, which is unambiguous and has one synset, the word car is ambiguous, having five synsets:"
      ]
    },
    {
      "cell_type": "code",
      "execution_count": null,
      "id": "21435122",
      "metadata": {
        "id": "21435122",
        "outputId": "f486fe6f-3e2e-443a-9064-53b40bdd8221"
      },
      "outputs": [
        {
          "name": "stdout",
          "output_type": "stream",
          "text": [
            "['car', 'auto', 'automobile', 'machine', 'motorcar']\n",
            "['car', 'railcar', 'railway_car', 'railroad_car']\n",
            "['car', 'gondola']\n",
            "['car', 'elevator_car']\n",
            "['cable_car', 'car']\n"
          ]
        }
      ],
      "source": [
        "for synset in wn.synsets('car'):\n",
        "    print(synset.lemma_names())"
      ]
    },
    {
      "cell_type": "code",
      "execution_count": null,
      "id": "4e67c1e2",
      "metadata": {
        "id": "4e67c1e2",
        "outputId": "a103b1f6-ad1d-4fbb-aa9d-46da6e137f3e"
      },
      "outputs": [
        {
          "data": {
            "text/plain": [
              "[Lemma('car.n.01.car'),\n",
              " Lemma('car.n.02.car'),\n",
              " Lemma('car.n.03.car'),\n",
              " Lemma('car.n.04.car'),\n",
              " Lemma('cable_car.n.01.car')]"
            ]
          },
          "execution_count": 114,
          "metadata": {},
          "output_type": "execute_result"
        }
      ],
      "source": [
        "wn.lemmas('car')"
      ]
    },
    {
      "cell_type": "code",
      "execution_count": null,
      "id": "57a81721",
      "metadata": {
        "id": "57a81721",
        "outputId": "5433efc7-681c-4386-a5ae-956e2cd78185"
      },
      "outputs": [
        {
          "data": {
            "text/plain": [
              "Synset('ambulance.n.01')"
            ]
          },
          "execution_count": 115,
          "metadata": {},
          "output_type": "execute_result"
        }
      ],
      "source": [
        "motorcar = wn.synset('car.n.01')\n",
        ">>> types_of_motorcar = motorcar.hyponyms()   #a word of more specific meaning than a general or superordinate term applicable to it. For example, spoon is a hyponym of cutlery.\n",
        ">>> types_of_motorcar[0]"
      ]
    },
    {
      "cell_type": "code",
      "execution_count": null,
      "id": "acf0d78d",
      "metadata": {
        "id": "acf0d78d",
        "outputId": "60535ad8-f83e-406b-cdf0-4105ce5db479"
      },
      "outputs": [
        {
          "data": {
            "text/plain": [
              "['Model_T',\n",
              " 'S.U.V.',\n",
              " 'SUV',\n",
              " 'Stanley_Steamer',\n",
              " 'ambulance',\n",
              " 'beach_waggon',\n",
              " 'beach_wagon',\n",
              " 'bus',\n",
              " 'cab',\n",
              " 'compact',\n",
              " 'compact_car',\n",
              " 'convertible',\n",
              " 'coupe',\n",
              " 'cruiser',\n",
              " 'electric',\n",
              " 'electric_automobile',\n",
              " 'electric_car',\n",
              " 'estate_car',\n",
              " 'gas_guzzler',\n",
              " 'hack',\n",
              " 'hardtop',\n",
              " 'hatchback',\n",
              " 'heap',\n",
              " 'horseless_carriage',\n",
              " 'hot-rod',\n",
              " 'hot_rod',\n",
              " 'jalopy',\n",
              " 'jeep',\n",
              " 'landrover',\n",
              " 'limo',\n",
              " 'limousine',\n",
              " 'loaner',\n",
              " 'minicar',\n",
              " 'minivan',\n",
              " 'pace_car',\n",
              " 'patrol_car',\n",
              " 'phaeton',\n",
              " 'police_car',\n",
              " 'police_cruiser',\n",
              " 'prowl_car',\n",
              " 'race_car',\n",
              " 'racer',\n",
              " 'racing_car',\n",
              " 'roadster',\n",
              " 'runabout',\n",
              " 'saloon',\n",
              " 'secondhand_car',\n",
              " 'sedan',\n",
              " 'sport_car',\n",
              " 'sport_utility',\n",
              " 'sport_utility_vehicle',\n",
              " 'sports_car',\n",
              " 'squad_car',\n",
              " 'station_waggon',\n",
              " 'station_wagon',\n",
              " 'stock_car',\n",
              " 'subcompact',\n",
              " 'subcompact_car',\n",
              " 'taxi',\n",
              " 'taxicab',\n",
              " 'tourer',\n",
              " 'touring_car',\n",
              " 'two-seater',\n",
              " 'used-car',\n",
              " 'waggon',\n",
              " 'wagon']"
            ]
          },
          "execution_count": 116,
          "metadata": {},
          "output_type": "execute_result"
        }
      ],
      "source": [
        "sorted(lemma.name() for synset in types_of_motorcar for lemma in synset.lemmas())"
      ]
    },
    {
      "cell_type": "code",
      "execution_count": null,
      "id": "6a502536",
      "metadata": {
        "id": "6a502536"
      },
      "outputs": [],
      "source": []
    }
  ],
  "metadata": {
    "kernelspec": {
      "display_name": "Python 3 (ipykernel)",
      "language": "python",
      "name": "python3"
    },
    "language_info": {
      "codemirror_mode": {
        "name": "ipython",
        "version": 3
      },
      "file_extension": ".py",
      "mimetype": "text/x-python",
      "name": "python",
      "nbconvert_exporter": "python",
      "pygments_lexer": "ipython3",
      "version": "3.11.4"
    },
    "colab": {
      "provenance": []
    }
  },
  "nbformat": 4,
  "nbformat_minor": 5
}