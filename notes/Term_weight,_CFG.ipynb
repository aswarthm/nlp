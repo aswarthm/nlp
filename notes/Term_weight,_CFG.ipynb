{
  "cells": [
    {
      "cell_type": "code",
      "execution_count": 5,
      "id": "c050d06e",
      "metadata": {
        "id": "c050d06e",
        "outputId": "90bb480b-2446-4af2-ba55-202b3f25def1"
      },
      "outputs": [
        {
          "name": "stdout",
          "output_type": "stream",
          "text": [
            "(S\n",
            "  (NP I)\n",
            "  (VP\n",
            "    (VP (V shot) (NP (Det an) (N elephant)))\n",
            "    (PP (P in) (NP (Det my) (N pajamas)))))\n",
            "(S\n",
            "  (NP I)\n",
            "  (VP\n",
            "    (V shot)\n",
            "    (NP (Det an) (N elephant) (PP (P in) (NP (Det my) (N pajamas))))))\n"
          ]
        }
      ],
      "source": [
        "#This demostrate ambiguity\n",
        "\n",
        "import nltk\n",
        "from nltk import word_tokenize\n",
        "\n",
        "animal_action_grammar = nltk.CFG.fromstring(\"\"\"\n",
        "S -> NP VP\n",
        "NP -> Det N | Det N PP | 'I'\n",
        "VP -> V NP | VP PP\n",
        "PP -> P NP\n",
        "Det -> 'a' | 'the' | 'my' | 'an'\n",
        "N -> 'dog' | 'cat' | 'bird' | 'elephant' | 'mat' | 'pajamas'\n",
        "V -> 'chased' | 'ate' | 'saw' | 'shot'\n",
        "P -> 'in' | 'on' | 'with'\n",
        "\"\"\")\n",
        "sentence = \"I shot an elephant in my pajamas\"\n",
        "sent = nltk.word_tokenize(sentence)\n",
        "parser = nltk.ChartParser(animal_action_grammar)\n",
        "\n",
        "for tree in parser.parse(sent):\n",
        "    print(tree)\n",
        "    tree.draw()"
      ]
    },
    {
      "cell_type": "code",
      "execution_count": 2,
      "id": "cde3bcda",
      "metadata": {
        "id": "cde3bcda",
        "outputId": "626d21e1-e3e5-48a2-bb10-70b9320ce8b9"
      },
      "outputs": [
        {
          "name": "stdout",
          "output_type": "stream",
          "text": [
            "(S\n",
            "  (NP I)\n",
            "  (VP\n",
            "    (VP (V saw) (NP (Det a) (N cat)))\n",
            "    (PP (P on) (NP (Det the) (N mat)))))\n",
            "(S\n",
            "  (NP I)\n",
            "  (VP\n",
            "    (V saw)\n",
            "    (NP (Det a) (N cat) (PP (P on) (NP (Det the) (N mat))))))\n"
          ]
        }
      ],
      "source": [
        "import nltk\n",
        "from nltk import word_tokenize\n",
        "\n",
        "animal_action_grammar = nltk.CFG.fromstring(\"\"\"\n",
        "S -> NP VP\n",
        "NP -> Det N | Det N PP | 'I'\n",
        "VP -> V NP | VP PP\n",
        "PP -> P NP\n",
        "Det -> 'a' | 'the' | 'my'\n",
        "N -> 'dog' | 'cat' | 'bird' | 'elephant' | 'mat'\n",
        "V -> 'chased' | 'ate' | 'saw'\n",
        "P -> 'in' | 'on' | 'with'\n",
        "\"\"\")\n",
        "sentence = \"I saw a cat on the mat\"\n",
        "sent = nltk.word_tokenize(sentence)\n",
        "parser = nltk.ChartParser(animal_action_grammar)\n",
        "\n",
        "for tree in parser.parse(sent):\n",
        "    print(tree)\n",
        "    tree.draw()"
      ]
    },
    {
      "cell_type": "code",
      "execution_count": null,
      "id": "6d29fe68",
      "metadata": {
        "id": "6d29fe68"
      },
      "outputs": [],
      "source": []
    }
  ],
  "metadata": {
    "colab": {
      "provenance": []
    },
    "kernelspec": {
      "display_name": "Python 3 (ipykernel)",
      "language": "python",
      "name": "python3"
    },
    "language_info": {
      "codemirror_mode": {
        "name": "ipython",
        "version": 3
      },
      "file_extension": ".py",
      "mimetype": "text/x-python",
      "name": "python",
      "nbconvert_exporter": "python",
      "pygments_lexer": "ipython3",
      "version": "3.11.2"
    }
  },
  "nbformat": 4,
  "nbformat_minor": 5
}
